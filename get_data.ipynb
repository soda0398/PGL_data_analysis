{
 "cells": [
  {
   "cell_type": "code",
   "execution_count": 6,
   "metadata": {},
   "outputs": [],
   "source": [
    "import requests\n",
    "import json\n",
    "import matplotlib.pyplot as plt;\n",
    "import numpy as np"
   ]
  },
  {
   "cell_type": "code",
   "execution_count": 7,
   "metadata": {},
   "outputs": [],
   "source": [
    "def jsonprint(doc):\n",
    "    text = json.dumps(doc,sort_keys=True,indent=4)\n",
    "    print(text)\n"
   ]
  },
  {
   "cell_type": "code",
   "execution_count": 8,
   "metadata": {},
   "outputs": [],
   "source": [
    "pgl = \"https://3ds.pokemon-gl.com/frontendApi/gbu/getSeasonPokemonDetail\"\n",
    "\n",
    "go = True\n",
    "pgl_pokemon_data = []\n",
    "\n",
    "headers = {\n",
    "\"Host\": \"3ds.pokemon-gl.com\",\n",
    "\"User-Agent\": \"Mozilla/5.0 (Windows NT 10.0; Win64; x64) AppleWebKit/537.36 (KHTML, like Gecko)\"\n",
    "              \" Chrome/71.0.3578.98 Safari/537.36\",\n",
    "\"Accept\": \"*/*\",\n",
    "\"Accept-Language\": \"ja,en-US;q=0.9,en;q=0.8\",\n",
    "\"Accept-Encoding\": \"gzip, deflate, br\",\n",
    "\"Content-Type\": \"application/x-www-form-urlencoded; charset=UTF-8\",\n",
    "\"X-Requested-With\": \"XMLHttpRequest\",\n",
    "\"Referer\": \"https://3ds.pokemon-gl.com/rentalteam/usum/search\",\n",
    "\"Content-Length\": \"288\",\n",
    "\"Connection\": \"keep-alive\",\n",
    "\"Origin\": \"https://3ds.pokemon-gl.com\",\n",
    "}\n",
    "payload = {\n",
    "    \"languageId\":2,\n",
    "    \"seasonId\":318,\n",
    "    \"battleType\":0,\n",
    "    \"timezone\":'JST',\n",
    "    \"pokemonId\":'1-0',\n",
    "    \"displayNumberWaza\":10,\n",
    "    \"displayNumberTokusei\":4,\n",
    "    \"displayNumberSeikaku\":10,\n",
    "    \"displayNumberItem\":10,\n",
    "    \"displayNumberPokemonIn\":10,\n",
    "    \"displayNumberPokemonDown\":10,\n",
    "    \"dipslayNumberPokemonDownWaza\":10,\n",
    "}\n",
    "\n",
    "\n",
    "while go == True:\n",
    "    r = requests.post(pgl,headers=headers,data=payload)\n",
    "    pgl_pokemon_data.append(r)  \n",
    "    if r.json()[\"nextPokemonId\"] == \"1-0\":\n",
    "        go = False\n",
    "    else:\n",
    "        payload[\"pokemonId\"] = r.json()[\"nextPokemonId\"]\n"
   ]
  },
  {
   "cell_type": "code",
   "execution_count": 9,
   "metadata": {},
   "outputs": [],
   "source": [
    "\n",
    "store_data = {}\n",
    "for i in range(len(pgl_pokemon_data)):\n",
    "    store_data[i] = pgl_pokemon_data[i].json()\n"
   ]
  },
  {
   "cell_type": "code",
   "execution_count": 10,
   "metadata": {},
   "outputs": [],
   "source": [
    "\n",
    "with open(\"data18.json\",\"w\",encoding=\"utf-8\") as f:\n",
    "    json.dump(store_data,f,ensure_ascii=False, indent=4)\n"
   ]
  },
  {
   "cell_type": "code",
   "execution_count": null,
   "metadata": {},
   "outputs": [],
   "source": [
    "#pgl_pokemon_data[0].json()[\"rankingPokemonInfo\"][\"name\"]) GET POKEMONS NAME AND RANKING\n",
    "#jsonprint(pgl_pokemon_data[0].json())"
   ]
  }
 ],
 "metadata": {
  "kernelspec": {
   "display_name": "Python 3",
   "language": "python",
   "name": "python3"
  },
  "language_info": {
   "codemirror_mode": {
    "name": "ipython",
    "version": 3
   },
   "file_extension": ".py",
   "mimetype": "text/x-python",
   "name": "python",
   "nbconvert_exporter": "python",
   "pygments_lexer": "ipython3",
   "version": "3.7.3"
  }
 },
 "nbformat": 4,
 "nbformat_minor": 2
}
